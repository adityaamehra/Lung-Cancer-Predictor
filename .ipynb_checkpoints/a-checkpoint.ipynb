{
 "cells": [
  {
   "cell_type": "code",
   "id": "initial_id",
   "metadata": {
    "collapsed": true,
    "jupyter": {
     "is_executing": true
    }
   },
   "source": [
    "import os\n",
    "import numpy as np\n",
    "import pandas as pd"
   ],
   "outputs": [],
   "execution_count": null
  },
  {
   "metadata": {
    "jupyter": {
     "is_executing": true
    }
   },
   "cell_type": "code",
   "source": [
    "data = pd.read_csv('/Users/adityaamehra/Desktop/ML projects/Comprehensive Lung Cancer Dataset/data.csv')\n",
    "print(type(data))"
   ],
   "id": "4f18c1ce8d38f349",
   "outputs": [],
   "execution_count": null
  },
  {
   "metadata": {
    "ExecuteTime": {
     "end_time": "2025-01-17T09:44:11.190617Z",
     "start_time": "2025-01-17T09:44:11.142603Z"
    }
   },
   "cell_type": "code",
   "source": "print(data)",
   "id": "1d6bccfecf898e05",
   "outputs": [
    {
     "name": "stdout",
     "output_type": "stream",
     "text": [
      "        Patient_ID  Age  Gender Smoking_History  Years_Smoked  Pack_Years  \\\n",
      "0                1   69    Male           Never            30           3   \n",
      "1                2   32  Female          Former             6          61   \n",
      "2                3   89    Male           Never             2           9   \n",
      "3                4   78  Female           Never            11          69   \n",
      "4                5   38    Male          Former            11          57   \n",
      "...            ...  ...     ...             ...           ...         ...   \n",
      "299995      299996   64    Male         Current            45          47   \n",
      "299996      299997   46   Other           Never            12          70   \n",
      "299997      299998   44  Female           Never             1          23   \n",
      "299998      299999   65  Female         Current            37           7   \n",
      "299999      300000   53    Male          Former            14          15   \n",
      "\n",
      "        Family_History_Cancer      Occupation  Exposure_to_Toxins  \\\n",
      "0                       False          Farmer               False   \n",
      "1                       False   Office Worker               False   \n",
      "2                        True   Office Worker                True   \n",
      "3                       False  Factory Worker                True   \n",
      "4                       False          Farmer               False   \n",
      "...                       ...             ...                 ...   \n",
      "299995                  False   Office Worker                True   \n",
      "299996                   True  Factory Worker               False   \n",
      "299997                  False  Factory Worker               False   \n",
      "299998                   True   Office Worker                True   \n",
      "299999                  False  Factory Worker                True   \n",
      "\n",
      "       Residential_Area  ...  Previous_Cancer_Diagnosis  Tumor_Size_cm  \\\n",
      "0                 Urban  ...                       True          11.02   \n",
      "1                 Urban  ...                      False          14.29   \n",
      "2                 Rural  ...                      False           9.47   \n",
      "3                 Urban  ...                      False           2.22   \n",
      "4                 Rural  ...                      False           8.26   \n",
      "...                 ...  ...                        ...            ...   \n",
      "299995            Urban  ...                      False          10.80   \n",
      "299996            Urban  ...                      False           6.15   \n",
      "299997            Urban  ...                      False           0.81   \n",
      "299998         Suburban  ...                      False          13.18   \n",
      "299999            Urban  ...                      False           8.32   \n",
      "\n",
      "        Metastasis_Status  Stage_of_Cancer  Treatment_Type  Survival_Years  \\\n",
      "0                    True              III         Surgery              12   \n",
      "1                    True               II    Chemotherapy               6   \n",
      "2                   False              III    Chemotherapy               6   \n",
      "3                   False               IV    Chemotherapy              13   \n",
      "4                   False              III      Palliative               3   \n",
      "...                   ...              ...             ...             ...   \n",
      "299995              False               IV    Chemotherapy              19   \n",
      "299996              False              III    Chemotherapy              13   \n",
      "299997              False               IV    Chemotherapy               7   \n",
      "299998               True              III         Surgery               8   \n",
      "299999              False               II    Chemotherapy               6   \n",
      "\n",
      "       Follow_Up_Visits Medication_Response  Symptom_Progression  \\\n",
      "0                    24                Good               Stable   \n",
      "1                    12                Poor               Stable   \n",
      "2                    15                Good            Worsening   \n",
      "3                    25            Moderate            Improving   \n",
      "4                     4                Good               Stable   \n",
      "...                 ...                 ...                  ...   \n",
      "299995               24                Good            Worsening   \n",
      "299996               49                Good            Worsening   \n",
      "299997                0                Good            Improving   \n",
      "299998               13                Poor            Improving   \n",
      "299999                8            Moderate               Stable   \n",
      "\n",
      "       Year_of_Diagnosis  \n",
      "0                   2007  \n",
      "1                   2009  \n",
      "2                   2015  \n",
      "3                   2012  \n",
      "4                   2014  \n",
      "...                  ...  \n",
      "299995              2015  \n",
      "299996              2013  \n",
      "299997              2024  \n",
      "299998              2003  \n",
      "299999              2007  \n",
      "\n",
      "[300000 rows x 30 columns]\n"
     ]
    }
   ],
   "execution_count": 6
  },
  {
   "metadata": {},
   "cell_type": "code",
   "outputs": [],
   "execution_count": null,
   "source": "",
   "id": "e0ba033525287f37"
  }
 ],
 "metadata": {
  "kernelspec": {
   "display_name": "Python 3",
   "language": "python",
   "name": "python3"
  },
  "language_info": {
   "codemirror_mode": {
    "name": "ipython",
    "version": 2
   },
   "file_extension": ".py",
   "mimetype": "text/x-python",
   "name": "python",
   "nbconvert_exporter": "python",
   "pygments_lexer": "ipython2",
   "version": "2.7.6"
  }
 },
 "nbformat": 4,
 "nbformat_minor": 5
}
