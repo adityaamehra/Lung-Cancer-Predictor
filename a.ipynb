{
 "cells": [
  {
   "cell_type": "code",
   "execution_count": 43,
   "id": "initial_id",
   "metadata": {
    "jupyter": {
     "is_executing": true
    }
   },
   "outputs": [],
   "source": [
    "import os\n",
    "import numpy as np\n",
    "import pandas as pd\n",
    "from scipy.optimize import minimize_scalar"
   ]
  },
  {
   "cell_type": "code",
   "execution_count": 44,
   "id": "4f18c1ce8d38f349",
   "metadata": {
    "jupyter": {
     "is_executing": true
    }
   },
   "outputs": [
    {
     "name": "stdout",
     "output_type": "stream",
     "text": [
      "    Age  Gender  Smoking_History  Years_Smoked  Family_History_Cancer  \\\n",
      "0  0.69       1               -1          0.30                      1   \n",
      "1  0.32      -1                0          0.06                      1   \n",
      "2  0.89       1               -1          0.02                     -1   \n",
      "3  0.78      -1               -1          0.11                      1   \n",
      "4  0.38       1                0          0.11                      1   \n",
      "\n",
      "   Exposure_to_Toxins  Residential_Area    BMI  Lung_Function_Test_Result  \\\n",
      "0                   1                 1  0.278                      0.381   \n",
      "1                   1                 1  0.163                      0.951   \n",
      "2                  -1                -1  0.181                      0.624   \n",
      "3                  -1                 1  0.223                      0.629   \n",
      "4                   1                -1  0.283                      0.706   \n",
      "\n",
      "   Chest_Pain_Symptoms  ...  Physical_Activity_Level  Dietary_Habits  \\\n",
      "0                    1  ...                        0               1   \n",
      "1                    1  ...                        0              -1   \n",
      "2                    1  ...                        1               1   \n",
      "3                    1  ...                        1               0   \n",
      "4                    1  ...                        1               1   \n",
      "\n",
      "   Previous_Cancer_Diagnosis  Tumor_Size_cm  Metastasis_Status  \\\n",
      "0                         -1         0.1102                 -1   \n",
      "1                          1         0.1429                 -1   \n",
      "2                          1         0.0947                  1   \n",
      "3                          1         0.0222                  1   \n",
      "4                          1         0.0826                  1   \n",
      "\n",
      "   Stage_of_Cancer  Survival_Years  Follow_Up_Visits  Medication_Response  \\\n",
      "0                3              12                24                   -1   \n",
      "1                2               6                12                    1   \n",
      "2                3               6                15                   -1   \n",
      "3                4              13                25                    0   \n",
      "4                3               3                 4                   -1   \n",
      "\n",
      "   Symptom_Progression  \n",
      "0                    0  \n",
      "1                    0  \n",
      "2                    1  \n",
      "3                   -1  \n",
      "4                    0  \n",
      "\n",
      "[5 rows x 23 columns]\n"
     ]
    }
   ],
   "source": [
    "data = pd.read_csv('/Users/adityaamehra/Desktop/ML projects/Comprehensive Lung Cancer Dataset/data.csv')\n",
    "\n",
    "# Drop unnecessary columns\n",
    "data.drop(['Patient_ID','Pack_Years','Treatment_Type','Comorbidities','Air_Quality_Index','Occupation','Year_of_Diagnosis'], axis=1, inplace=True)\n",
    "\n",
    "# Handle missing values\n",
    "data.dropna(inplace=True)\n",
    "\n",
    "# Encode categorical variables\n",
    "data['Gender'] = data['Gender'].map({'Male': 1, 'Female': -1, 'Other': 0})\n",
    "data['Symptom_Progression'] = data['Symptom_Progression'].map({'Stable': 0, 'Worsening': 1, 'Improving': -1})\n",
    "data['Medication_Response'] = data['Medication_Response'].map({'Good': -1, 'Moderate': 0, 'Poor': 1})\n",
    "data['Stage_of_Cancer'] = data['Stage_of_Cancer'].map({'I': 1, 'II': 2, 'III': 3, 'IV': 4})\n",
    "\n",
    "# Boolean Columns\n",
    "bool_columns = [\n",
    "    'Metastasis_Status', 'Previous_Cancer_Diagnosis', 'Weight_Loss', 'Chronic_Cough',\n",
    "    'Shortness_of_Breath', 'Chest_Pain_Symptoms', 'Exposure_to_Toxins', 'Family_History_Cancer'\n",
    "]\n",
    "for col in bool_columns:\n",
    "    data[col] = data[col].map({True: -1, False: 1})\n",
    "\n",
    "# Lifestyle factors\n",
    "data['Dietary_Habits'] = data['Dietary_Habits'].map({'Good': -1, 'Average': 0, 'Poor': 1})\n",
    "data['Physical_Activity_Level'] = data['Physical_Activity_Level'].map({'High': -1, 'Moderate': 0, 'Low': 1})\n",
    "data['Residential_Area'] = data['Residential_Area'].map({'Urban': 1, 'Suburban': 0, 'Rural': -1})\n",
    "data['Smoking_History'] = data['Smoking_History'].map({'Never': -1, 'Former': 0, 'Current': 1})\n",
    "\n",
    "# Normalize numerical columns\n",
    "num_cols = ['Lung_Function_Test_Result', 'BMI', 'Years_Smoked', 'Age','Tumor_Size_cm']\n",
    "data[num_cols] = data[num_cols] / 100.0\n",
    "\n",
    "print(data.head())  # Check final dataset"
   ]
  },
  {
   "cell_type": "code",
   "execution_count": 45,
   "id": "adf117bf-1054-434d-8ce9-44e45ed2d757",
   "metadata": {},
   "outputs": [],
   "source": [
    "X = data.drop(columns=['Tumor_Size_cm']).values  # Features\n",
    "y = data['Tumor_Size_cm'].values  # Target variable"
   ]
  },
  {
   "cell_type": "code",
   "execution_count": 46,
   "id": "5c58dc20",
   "metadata": {},
   "outputs": [],
   "source": [
    "m=y.size"
   ]
  },
  {
   "cell_type": "code",
   "execution_count": 47,
   "id": "cb6ce2ca",
   "metadata": {},
   "outputs": [],
   "source": [
    "def nm(X):\n",
    "    X_norm =X.copy()\n",
    "    mu=np.mean(X_norm,axis=0)\n",
    "    sigma=np.std(X_norm,axis=0)\n",
    "    X_norm = (X - mu)/sigma\n",
    "    return X_norm,mu,sigma"
   ]
  },
  {
   "cell_type": "code",
   "execution_count": 48,
   "id": "71f533c2",
   "metadata": {},
   "outputs": [
    {
     "name": "stdout",
     "output_type": "stream",
     "text": [
      "Computed mean: [ 5.34504033e-01 -6.30000000e-04 -9.90466667e-02  2.45064433e-01\n",
      "  3.99180000e-01  2.01226667e-01  2.00630000e-01  2.80085407e-01\n",
      "  6.49543343e-01  6.00846667e-01  4.01440000e-01  3.00586667e-01\n",
      "  6.99200000e-01  3.00143333e-01  2.00780000e-01  8.01793333e-01\n",
      "  4.97820000e-01  2.45026667e+00  9.50222667e+00  2.44880400e+01\n",
      " -3.00716667e-01  2.00346667e-01]\n",
      "Computed standard deviation: [ 0.20781023  0.97982801  0.83118174  0.14432934  0.91687258  0.9795447\n",
      "  0.87160633  0.06931683  0.20196888  0.7993643   0.91588532  0.95375451\n",
      "  0.71492612  0.78053228  0.74825623  0.59760141  0.86728037  1.07169333\n",
      "  5.76240127 14.43416792  0.7806874   0.74858169]\n"
     ]
    }
   ],
   "source": [
    "X_norm, mu, sigma = nm(X)\n",
    "\n",
    "print('Computed mean:', mu)\n",
    "print('Computed standard deviation:', sigma)"
   ]
  },
  {
   "cell_type": "code",
   "execution_count": 49,
   "id": "5e2e35ac",
   "metadata": {},
   "outputs": [],
   "source": [
    "if X[0].all() == 1:\n",
    "    print('The first column is all ones')\n",
    "else:\n",
    "    X = np.concatenate([np.ones((m, 1)), X_norm], axis=1)"
   ]
  },
  {
   "cell_type": "code",
   "execution_count": 50,
   "id": "1cf3201d",
   "metadata": {},
   "outputs": [],
   "source": [
    "def cost(X,y,theta):\n",
    "    m=y.shape[0]\n",
    "    J=0\n",
    "    y_hat=np.dot(X,theta)\n",
    "    err=y_hat-y\n",
    "    serr=err**2\n",
    "    J=(1/(2*m))*(serr.sum())\n",
    "    return J"
   ]
  },
  {
   "cell_type": "code",
   "execution_count": 51,
   "id": "ae4be412",
   "metadata": {},
   "outputs": [],
   "source": [
    "def mgd(X, y, theta, alpha, n):\n",
    "    theta = theta.copy()\n",
    "    J_history = []\n",
    "    m = y.shape[0]\n",
    "    for i in range(n):\n",
    "        y_hat = np.dot(X, theta)\n",
    "        err = y_hat - y\n",
    "        grad = (1 / m) * np.dot(X.T, err)\n",
    "        theta -= alpha * grad\n",
    "        J_history.append(cost(X, y, theta))\n",
    "    return theta, J_history\n"
   ]
  },
  {
   "cell_type": "code",
   "execution_count": 52,
   "id": "2fb6c40d",
   "metadata": {},
   "outputs": [],
   "source": [
    "def cfa(alpha, X, y, theta, n):\n",
    "    theta = np.zeros(X.shape[1])\n",
    "    theta, J_history = mgd(X, y, theta, alpha, n)\n",
    "    return J_history[-1]"
   ]
  },
  {
   "cell_type": "code",
   "execution_count": 54,
   "id": "c0d6c0f6",
   "metadata": {},
   "outputs": [
    {
     "name": "stdout",
     "output_type": "stream",
     "text": [
      "(300000,)\n",
      "(300000, 23)\n"
     ]
    }
   ],
   "source": [
    "y = y.reshape(-1) \n",
    "print(y.shape)\n",
    "print(X.shape)"
   ]
  },
  {
   "cell_type": "code",
   "execution_count": 55,
   "id": "29d163c2",
   "metadata": {},
   "outputs": [
    {
     "name": "stdout",
     "output_type": "stream",
     "text": [
      "0.8966774004357938\n",
      "theta computed from gradient descent: [ 7.49139053e-02 -1.83880984e-05  2.61627408e-05  8.77161147e-05\n",
      "  3.79841272e-05  1.00561704e-04  1.60673759e-04 -5.06247431e-05\n",
      "  1.15961632e-04  9.34640030e-05 -4.42640826e-05  1.56159974e-04\n",
      "  4.37457433e-05  1.29121964e-04 -4.85003909e-05  1.65406622e-04\n",
      "  7.53916430e-05 -2.73774067e-05 -6.17082773e-05  2.20662118e-05\n",
      "  2.55583692e-05 -7.09309431e-05 -1.63819879e-05]\n"
     ]
    }
   ],
   "source": [
    "n = 10     \n",
    "theta = np.zeros(X.shape[1])\n",
    "res = minimize_scalar(lambda alpha: cfa(alpha, X, y, theta, n), bounds=(1e-6, 1), method='bounded')\n",
    "alpha = res.x\n",
    "print(alpha)\n",
    "theta, J_history = mgd(X, y, theta, alpha, n)\n",
    "print('theta computed from gradient descent: {:s}'.format(str(theta)))"
   ]
  },
  {
   "cell_type": "code",
   "execution_count": 62,
   "id": "a10bcc33",
   "metadata": {},
   "outputs": [
    {
     "name": "stdout",
     "output_type": "stream",
     "text": [
      "X_test shape: (5, 23)\n",
      "23\n",
      "Sample 1 - Predicted Tumor Size: 7.19764933224653624677103 cm\n",
      "Sample 2 - Predicted Tumor Size: 7.54453700037685237589358 cm\n",
      "Sample 3 - Predicted Tumor Size: 7.21608978309906401449325 cm\n",
      "Sample 4 - Predicted Tumor Size: 7.27322485127091944434596 cm\n",
      "Sample 5 - Predicted Tumor Size: 7.10987486069304974733996 cm\n"
     ]
    }
   ],
   "source": [
    "samples = np.array([\n",
    "    [1, -1, 1, 0, 1, -1, -1, -1, -1, 0, -1, -1, 1, -1, -1, 0, 0, 0.85, 0.22, 0.0,1,1,1],  # Sample 1\n",
    "    [1, -1, 0, -1, 1, 0, 1, -1, 1, -1, -1, 0, -1, -1, 2, 1, 1, 0.70, 0.26, 10.0,1,1,1],   # Sample 2\n",
    "    [1, 1, 1, 1, -1, -1, 1, 1, -1, 1, 0, 1, 1, 1, 4, -1, -1, 0.55, 0.32, 30.0,1,1,1],     # Sample 3\n",
    "    [1, 0, -1, 1, 1, 1, -1, 1, -1, -1, -1, 1, -1, 3, 0, 1, 0, 0.68, 0.28, 5.0,1,1,1],     # Sample 4\n",
    "    [1, -1, -1, -1, -1, -1, -1, -1, -1, -1, -1, -1, -1, 1, 1, 0, 1, 0.92, 0.20, 0.0,1,1,1] # Sample 5\n",
    "])\n",
    "\n",
    "# Ensure X_test has the correct shape\n",
    "X_test = np.vstack(samples)\n",
    "print(f\"X_test shape: {X_test.shape}\")  # Should match the number of columns in training data\n",
    "\n",
    "# Ensure mu and sigma have the same shape as X_test (excluding bias)\n",
    "mu_features = mu.reshape(1, -1)\n",
    "sigma_features = sigma.reshape(1, -1)\n",
    "# Normalize only the non-bias features\n",
    "X_test[:, 1:] = (X_test[:, 1:] - mu_features) / sigma_features  \n",
    "print(theta.size)\n",
    "# Compute predictions\n",
    "price = X_test @ theta\n",
    "\n",
    "# Clip predictions to range [0, 100]\n",
    "price = np.clip(price, 0, 100)\n",
    "\n",
    "# Display results\n",
    "for i, pred in enumerate(price):\n",
    "    print(f\"Sample {i+1} - Predicted Tumor Size: {pred * 100:.23f} cm\")"
   ]
  },
  {
   "cell_type": "code",
   "execution_count": null,
   "id": "951b0617",
   "metadata": {},
   "outputs": [],
   "source": []
  }
 ],
 "metadata": {
  "kernelspec": {
   "display_name": "LungCancer",
   "language": "python",
   "name": "python3"
  },
  "language_info": {
   "codemirror_mode": {
    "name": "ipython",
    "version": 3
   },
   "file_extension": ".py",
   "mimetype": "text/x-python",
   "name": "python",
   "nbconvert_exporter": "python",
   "pygments_lexer": "ipython3",
   "version": "3.8.20"
  }
 },
 "nbformat": 4,
 "nbformat_minor": 5
}
